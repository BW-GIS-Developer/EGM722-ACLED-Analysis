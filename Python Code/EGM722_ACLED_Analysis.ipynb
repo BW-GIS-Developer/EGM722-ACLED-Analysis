{
 "cells": [
  {
   "cell_type": "code",
   "execution_count": 1,
   "metadata": {},
   "outputs": [],
   "source": [
    "# Import Python Modules\n",
    "\n",
    "import geopandas as gpd\n",
    "import pandas as pd\n",
    "import matplotlib.pyplot as plt\n",
    "import matplotlib.dates as mdates\n",
    "import cartopy.crs as ccrs\n",
    "\n",
    "from cartopy.feature import ShapelyFeature\n",
    "from datetime import datetime\n",
    "from shapely.geometry import Polygon\n",
    "\n",
    "import h3, jenkspy"
   ]
  },
  {
   "cell_type": "code",
   "execution_count": 3,
   "metadata": {},
   "outputs": [],
   "source": [
    "# Define Global Variables\n",
    "\n",
    "# ACLED dataset\n",
    "shapefile_ukraine_acled = gpd.read_file(r\"D:\\01 - CPD\\07  -  MSc GIS\\04 - Year 1\\EGM722 Programming for GIS and Remote Sensing\\Data\\ACLED\\UKR_ACLED_MSc.shp\")\n",
    "\n",
    "# Ukraine country boundary\n",
    "shapefile_ukraine_outline = gpd.read_file(r\"D:\\01 - CPD\\07  -  MSc GIS\\04 - Year 1\\EGM722 Programming for GIS and Remote Sensing\\Data\\Boundaries\\UKR_Boundary.shp\")\n",
    "\n",
    "# Ukraine oblast bondaries\n",
    "shapefile_ukraine_oblasts = gpd.read_file(r\"D:\\01 - CPD\\07  -  MSc GIS\\04 - Year 1\\EGM722 Programming for GIS and Remote Sensing\\Data\\Boundaries\\UKR_Adm.shp\")\n",
    "\n",
    "# Global country boudnaries\n",
    "shapefile_global_outline = gpd.read_file(r\"D:\\01 - CPD\\07  -  MSc GIS\\04 - Year 1\\EGM722 Programming for GIS and Remote Sensing\\Data\\Boundaries\\GLB_Bnd.shp\")\n",
    "\n",
    "# Start, middle and end dates\n",
    "date_start, date_mid, date_end = ((datetime(2021,12,1), datetime(2022,2,1), datetime(2022,3,18)))"
   ]
  },
  {
   "cell_type": "code",
   "execution_count": null,
   "metadata": {},
   "outputs": [],
   "source": []
  }
 ],
 "metadata": {
  "interpreter": {
   "hash": "04d4348d42b45b277d1de63093027f561ad34f3a24eaebfee246c735dc5aa989"
  },
  "kernelspec": {
   "display_name": "Python 3.8.8 ('EGM722')",
   "language": "python",
   "name": "python3"
  },
  "language_info": {
   "codemirror_mode": {
    "name": "ipython",
    "version": 3
   },
   "file_extension": ".py",
   "mimetype": "text/x-python",
   "name": "python",
   "nbconvert_exporter": "python",
   "pygments_lexer": "ipython3",
   "version": "3.8.8"
  },
  "orig_nbformat": 4
 },
 "nbformat": 4,
 "nbformat_minor": 2
}
